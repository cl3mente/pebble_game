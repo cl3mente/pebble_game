{
 "cells": [
  {
   "cell_type": "code",
   "execution_count": null,
   "metadata": {},
   "outputs": [],
   "source": [
    "import random"
   ]
  },
  {
   "cell_type": "code",
   "execution_count": null,
   "metadata": {},
   "outputs": [],
   "source": [
    "n = int(input())\n",
    "\n",
    "s1 = s2 = n\n",
    "\n",
    "p1_moves = []\n",
    "p2_moves = []\n",
    "\n",
    "tot = 2*n"
   ]
  },
  {
   "cell_type": "code",
   "execution_count": null,
   "metadata": {},
   "outputs": [],
   "source": [
    "## strategia 1\n",
    "# when pebble on the ground are more than 3, \n",
    "#   take 1 if the stacks are equal\n",
    "#   take 2 if the stacks are uneven\n",
    "# return the number of pebbles removed\n",
    "\n",
    "def strat_1(tot, s1, s2):\n",
    "    while tot > 3:\n",
    "        if s1 == s2:\n",
    "            move = -1\n",
    "        else:\n",
    "            move = -2\n",
    "\n",
    "    return move"
   ]
  },
  {
   "cell_type": "code",
   "execution_count": null,
   "metadata": {},
   "outputs": [],
   "source": [
    "\n",
    "\n",
    "while tot > 3:\n",
    "    move_p1 = strat_1(tot, s1, s2)\n",
    "    tot -= move_p1\n",
    "    moves_p1.append(move_p1)\n",
    "    print(move_p1)\n",
    "    move_p2 = random.randint(-2,-1)\n",
    "    tot -= move_p2\n",
    "    moves_p2.append(move_p2)\n",
    "    print(move_p1)\n",
    "if tot == 3:\n",
    "    print(\"hai perso\")\n",
    "if tot <= 2:\n",
    "    print(\"hai vinto\")\n"
   ]
  },
  {
   "cell_type": "code",
   "execution_count": null,
   "metadata": {},
   "outputs": [],
   "source": [
    "# strategy for player 2\n",
    "while tot > 0:\n",
    "    if tot % 3 == 0:\n",
    "        p2_move = random.randint(-2, -1)\n",
    "        if p2_move == -2:\n",
    "            p1_move = -1\n",
    "        if p2_move == -1:\n",
    "            p1_move = -2\n"
   ]
  },
  {
   "cell_type": "code",
   "execution_count": null,
   "metadata": {},
   "outputs": [],
   "source": [
    "# strategy for player 1\n",
    "while tot > 0:\n",
    "    rest = tot % 3\n",
    "    if rest == 1:\n",
    "        p1_move = -1\n",
    "    if rest == 2\n",
    "        p1_move == -2\n",
    "    else:\n",
    "        #if tot is already a multiple of 3 ??\n",
    "        #randomize (?)\n",
    "        p1_move = random.randint(-2-,-1)\n",
    "    p1_moves.append(p1_move)"
   ]
  }
 ],
 "metadata": {
  "kernelspec": {
   "display_name": "Python 3.10.2 64-bit",
   "language": "python",
   "name": "python3"
  },
  "language_info": {
   "codemirror_mode": {
    "name": "ipython",
    "version": 3
   },
   "file_extension": ".py",
   "mimetype": "text/x-python",
   "name": "python",
   "nbconvert_exporter": "python",
   "pygments_lexer": "ipython3",
   "version": "3.10.2"
  },
  "orig_nbformat": 4,
  "vscode": {
   "interpreter": {
    "hash": "adda2800185721ec47e9eff172a36b2c7e7a54ac4dc40284f6d98bb37488e742"
   }
  }
 },
 "nbformat": 4,
 "nbformat_minor": 2
}
