{
 "cells": [
  {
   "cell_type": "code",
   "execution_count": 1,
   "metadata": {},
   "outputs": [],
   "source": [
    "## strategia 1\n",
    "# when pebble on the ground are more than 3, \n",
    "#   take 1 if the stacks are equal\n",
    "#   take 2 if the stacks are uneven\n",
    "# return the number of pebbles removed\n",
    "\n",
    "def strat_1(tot, s1, s2):\n",
    "    while tot > 3:\n",
    "        if s1 == s2:\n",
    "            move = -1\n",
    "        else:\n",
    "            move = -2\n",
    "\n",
    "    return move"
   ]
  },
  {
   "cell_type": "code",
   "execution_count": 2,
   "metadata": {},
   "outputs": [],
   "source": [
    "n = int(input())\n",
    "\n",
    "s1 = s2 = n\n",
    "\n",
    "moves_p1 = []\n",
    "moves_p2 = []\n",
    "\n",
    "tot = 2*n"
   ]
  },
  {
   "cell_type": "code",
   "execution_count": 4,
   "metadata": {},
   "outputs": [
    {
     "ename": "KeyboardInterrupt",
     "evalue": "",
     "output_type": "error",
     "traceback": [
      "\u001b[1;31m---------------------------------------------------------------------------\u001b[0m",
      "\u001b[1;31mKeyboardInterrupt\u001b[0m                         Traceback (most recent call last)",
      "Cell \u001b[1;32mIn [4], line 5\u001b[0m\n\u001b[0;32m      1\u001b[0m \u001b[39mimport\u001b[39;00m \u001b[39mrandom\u001b[39;00m\n\u001b[0;32m      4\u001b[0m \u001b[39mwhile\u001b[39;00m tot \u001b[39m>\u001b[39m \u001b[39m3\u001b[39m:\n\u001b[1;32m----> 5\u001b[0m     move_p1 \u001b[39m=\u001b[39m strat_1(tot, s1, s2)\n\u001b[0;32m      6\u001b[0m     tot \u001b[39m-\u001b[39m\u001b[39m=\u001b[39m move_p1\n\u001b[0;32m      7\u001b[0m     moves_p1\u001b[39m.\u001b[39mappend(move_p1)\n",
      "Cell \u001b[1;32mIn [1], line 8\u001b[0m, in \u001b[0;36mstrat_1\u001b[1;34m(tot, s1, s2)\u001b[0m\n\u001b[0;32m      7\u001b[0m \u001b[39mdef\u001b[39;00m \u001b[39mstrat_1\u001b[39m(tot, s1, s2):\n\u001b[1;32m----> 8\u001b[0m     \u001b[39mwhile\u001b[39;00m tot \u001b[39m>\u001b[39;49m \u001b[39m3\u001b[39;49m:\n\u001b[0;32m      9\u001b[0m         \u001b[39mif\u001b[39;00m s1 \u001b[39m==\u001b[39m s2:\n\u001b[0;32m     10\u001b[0m             move \u001b[39m=\u001b[39m \u001b[39m-\u001b[39m\u001b[39m1\u001b[39m\n",
      "\u001b[1;31mKeyboardInterrupt\u001b[0m: "
     ]
    }
   ],
   "source": [
    "import random\n",
    "\n",
    "\n",
    "while tot > 3:\n",
    "    move_p1 = strat_1(tot, s1, s2)\n",
    "    tot -= move_p1\n",
    "    moves_p1.append(move_p1)\n",
    "    print(move_p1)\n",
    "    move_p2 = random.randint(-2,-1)\n",
    "    tot -= move_p2\n",
    "    moves_p2.append(move_p2)\n",
    "    print(move_p1)\n",
    "if tot == 3:\n",
    "    print(\"hai perso\")\n",
    "if tot <= 2:\n",
    "    print(\"hai vinto\")\n"
   ]
  }
 ],
 "metadata": {
  "kernelspec": {
   "display_name": "Python 3.10.2 64-bit",
   "language": "python",
   "name": "python3"
  },
  "language_info": {
   "codemirror_mode": {
    "name": "ipython",
    "version": 3
   },
   "file_extension": ".py",
   "mimetype": "text/x-python",
   "name": "python",
   "nbconvert_exporter": "python",
   "pygments_lexer": "ipython3",
   "version": "3.10.2"
  },
  "orig_nbformat": 4,
  "vscode": {
   "interpreter": {
    "hash": "adda2800185721ec47e9eff172a36b2c7e7a54ac4dc40284f6d98bb37488e742"
   }
  }
 },
 "nbformat": 4,
 "nbformat_minor": 2
}
